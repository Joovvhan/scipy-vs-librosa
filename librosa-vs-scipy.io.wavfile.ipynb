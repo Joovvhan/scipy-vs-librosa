{
 "cells": [
  {
   "cell_type": "code",
   "execution_count": 1,
   "metadata": {},
   "outputs": [],
   "source": [
    "from glob import glob\n",
    "import librosa\n",
    "import scipy.io.wavfile as wavfile\n",
    "from tqdm.notebook import tqdm\n",
    "from datetime import datetime"
   ]
  },
  {
   "cell_type": "code",
   "execution_count": 2,
   "metadata": {},
   "outputs": [],
   "source": [
    "wav_files = sorted(glob('../../../dataSSD/kss/*/*.wav'))"
   ]
  },
  {
   "cell_type": "code",
   "execution_count": 3,
   "metadata": {},
   "outputs": [
    {
     "data": {
      "application/vnd.jupyter.widget-view+json": {
       "model_id": "9031a83f1e714187a5660794a04c1769",
       "version_major": 2,
       "version_minor": 0
      },
      "text/plain": [
       "HBox(children=(FloatProgress(value=0.0, max=12854.0), HTML(value='')))"
      ]
     },
     "metadata": {},
     "output_type": "display_data"
    },
    {
     "name": "stdout",
     "output_type": "stream",
     "text": [
      "\n",
      "librosa.core.load took 0.83198 secs for loading 12854 files, total 46286.523 secs\n"
     ]
    }
   ],
   "source": [
    "start = datetime.now()\n",
    "\n",
    "seconds = 0\n",
    "\n",
    "for file in tqdm(wav_files):\n",
    "    y, sr = librosa.core.load(file, sr=None)\n",
    "    \n",
    "    seconds += len(y) / sr\n",
    "    \n",
    "end = datetime.now() \n",
    "\n",
    "delta = end - start\n",
    "\n",
    "print(f'librosa.core.load took {delta.microseconds / 1e6} secs ' +\n",
    "      f'for loading {len(wav_files)} files, total {seconds:3.3f} secs')"
   ]
  },
  {
   "cell_type": "code",
   "execution_count": 4,
   "metadata": {},
   "outputs": [
    {
     "data": {
      "application/vnd.jupyter.widget-view+json": {
       "model_id": "c2f5037bdff1435888d61e02a2821d6e",
       "version_major": 2,
       "version_minor": 0
      },
      "text/plain": [
       "HBox(children=(FloatProgress(value=0.0, max=12854.0), HTML(value='')))"
      ]
     },
     "metadata": {},
     "output_type": "display_data"
    },
    {
     "name": "stdout",
     "output_type": "stream",
     "text": [
      "\n",
      "librosa.core.load took 0.079269 secs for loading 12854 files, total 46286.523 secs\n"
     ]
    }
   ],
   "source": [
    "start = datetime.now()\n",
    "\n",
    "seconds = 0\n",
    "\n",
    "for file in tqdm(wav_files):\n",
    "    y, sr = librosa.core.load(file, sr=22500)\n",
    "    \n",
    "    seconds += len(y) / sr\n",
    "    \n",
    "end = datetime.now() \n",
    "\n",
    "delta = end - start\n",
    "\n",
    "print(f'librosa.core.load took {delta.microseconds / 1e6} secs ' +\n",
    "      f'for loading {len(wav_files)} files, total {seconds:3.3f} secs')"
   ]
  },
  {
   "cell_type": "code",
   "execution_count": 5,
   "metadata": {},
   "outputs": [
    {
     "data": {
      "application/vnd.jupyter.widget-view+json": {
       "model_id": "c5cff3bec647433e80443d7db7b716e0",
       "version_major": 2,
       "version_minor": 0
      },
      "text/plain": [
       "HBox(children=(FloatProgress(value=0.0, max=12854.0), HTML(value='')))"
      ]
     },
     "metadata": {},
     "output_type": "display_data"
    },
    {
     "name": "stdout",
     "output_type": "stream",
     "text": [
      "\n",
      "librosa.core.load took 0.293675 secs for loading 12854 files, total 46286.918 secs\n"
     ]
    }
   ],
   "source": [
    "start = datetime.now()\n",
    "\n",
    "seconds = 0\n",
    "\n",
    "for file in tqdm(wav_files):\n",
    "    y, sr = librosa.core.load(file, sr=16000)\n",
    "    \n",
    "    seconds += len(y) / sr\n",
    "    \n",
    "end = datetime.now() \n",
    "\n",
    "delta = end - start\n",
    "\n",
    "print(f'librosa.core.load took {delta.microseconds / 1e6} secs ' +\n",
    "      f'for loading {len(wav_files)} files, total {seconds:3.3f} secs')"
   ]
  },
  {
   "cell_type": "code",
   "execution_count": 6,
   "metadata": {},
   "outputs": [
    {
     "data": {
      "application/vnd.jupyter.widget-view+json": {
       "model_id": "ae490e50b44d415ca17b04d94a0f14e5",
       "version_major": 2,
       "version_minor": 0
      },
      "text/plain": [
       "HBox(children=(FloatProgress(value=0.0, max=12854.0), HTML(value='')))"
      ]
     },
     "metadata": {},
     "output_type": "display_data"
    },
    {
     "name": "stdout",
     "output_type": "stream",
     "text": [
      "\n",
      "scipy.io.wavfile.read took 0.407618 secs for loading 12854 files, total 46286.523 secs\n"
     ]
    }
   ],
   "source": [
    "start = datetime.now()\n",
    "\n",
    "seconds = 0\n",
    "\n",
    "for file in tqdm(wav_files):\n",
    "    sr, y = wavfile.read(file)\n",
    "    \n",
    "    seconds += len(y) / sr\n",
    "    \n",
    "end = datetime.now() \n",
    "\n",
    "delta = end - start\n",
    "\n",
    "print(f'scipy.io.wavfile.read took {delta.microseconds / 1e6:f} secs ' +\n",
    "      f'for loading {len(wav_files)} files, total {seconds:3.3f} secs')"
   ]
  }
 ],
 "metadata": {
  "kernelspec": {
   "display_name": "Python 3",
   "language": "python",
   "name": "python3"
  },
  "language_info": {
   "codemirror_mode": {
    "name": "ipython",
    "version": 3
   },
   "file_extension": ".py",
   "mimetype": "text/x-python",
   "name": "python",
   "nbconvert_exporter": "python",
   "pygments_lexer": "ipython3",
   "version": "3.7.4"
  }
 },
 "nbformat": 4,
 "nbformat_minor": 2
}
